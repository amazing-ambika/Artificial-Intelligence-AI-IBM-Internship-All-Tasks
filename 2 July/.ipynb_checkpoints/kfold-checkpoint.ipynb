{
 "cells": [
  {
   "cell_type": "code",
   "execution_count": 1,
   "id": "78d33f3c-cf73-4e9c-ba79-d25b0390db73",
   "metadata": {
    "colab": {
     "base_uri": "https://localhost:8080/"
    },
    "id": "78d33f3c-cf73-4e9c-ba79-d25b0390db73",
    "outputId": "bbaee03c-274a-406a-b241-cc3e3fccc07c"
   },
   "outputs": [
    {
     "data": {
      "text/plain": [
       "KFold(n_splits=3, random_state=None, shuffle=False)"
      ]
     },
     "execution_count": 1,
     "metadata": {},
     "output_type": "execute_result"
    }
   ],
   "source": [
    "#Session Task - (2-7-24)\n",
    "\n",
    "#Use iris flower dataset from sklearn library and use cross_val_score against following models to measure the performance of each. In the end figure out the model with best performance,\n",
    "#1. Logistic Regression\n",
    "#2. SVM\n",
    "#3. Decision Tree\n",
    "#4. Random Forest\n",
    "\n",
    "\n",
    "from sklearn.model_selection import KFold\n",
    "kf = KFold(n_splits = 3)\n",
    "kf"
   ]
  },
  {
   "cell_type": "code",
   "execution_count": 2,
   "id": "a2c24eab-5adf-4ea2-adb0-fe458bfe9078",
   "metadata": {
    "colab": {
     "base_uri": "https://localhost:8080/"
    },
    "id": "a2c24eab-5adf-4ea2-adb0-fe458bfe9078",
    "outputId": "2b5c69b4-1e58-41f3-8030-00947da8a2c1"
   },
   "outputs": [
    {
     "name": "stdout",
     "output_type": "stream",
     "text": [
      "[3 4 5 6 7 8] [0 1 2]\n",
      "[0 1 2 6 7 8] [3 4 5]\n",
      "[0 1 2 3 4 5] [6 7 8]\n"
     ]
    }
   ],
   "source": [
    "for train_index,test_index in kf.split([1,2,3,4,5,6,7,8,9]):\n",
    "    print(train_index, test_index)"
   ]
  },
  {
   "cell_type": "code",
   "execution_count": 3,
   "id": "bcf0f6f2-5a49-44c2-993f-518c1fb6386d",
   "metadata": {
    "id": "bcf0f6f2-5a49-44c2-993f-518c1fb6386d"
   },
   "outputs": [],
   "source": [
    "from sklearn.linear_model import LogisticRegression\n",
    "from sklearn.svm import SVC\n",
    "from sklearn.ensemble import RandomForestClassifier"
   ]
  },
  {
   "cell_type": "code",
   "execution_count": 4,
   "id": "7424c607-5f0e-452c-afe4-46f81bccca3d",
   "metadata": {
    "id": "7424c607-5f0e-452c-afe4-46f81bccca3d"
   },
   "outputs": [],
   "source": [
    "import numpy as np"
   ]
  },
  {
   "cell_type": "code",
   "execution_count": 7,
   "id": "d3036f55-75ea-4243-8fbf-9b5504d63885",
   "metadata": {
    "id": "d3036f55-75ea-4243-8fbf-9b5504d63885"
   },
   "outputs": [],
   "source": [
    "from sklearn.datasets import load_iris\n",
    "iris = load_iris()"
   ]
  },
  {
   "cell_type": "code",
   "execution_count": 8,
   "id": "df41917d-4afb-4364-ae70-210ce4124941",
   "metadata": {
    "id": "df41917d-4afb-4364-ae70-210ce4124941"
   },
   "outputs": [],
   "source": [
    "from sklearn.model_selection import train_test_split\n",
    "X_train,X_test ,y_train,y_test = train_test_split(iris.data,iris.target,test_size=0.3)"
   ]
  },
  {
   "cell_type": "code",
   "execution_count": 9,
   "id": "7460c09b-f724-4bb6-af77-a325f074d32d",
   "metadata": {
    "colab": {
     "base_uri": "https://localhost:8080/"
    },
    "id": "7460c09b-f724-4bb6-af77-a325f074d32d",
    "outputId": "a5bb28a6-0d2c-49e9-861a-418c6654e109"
   },
   "outputs": [
    {
     "data": {
      "text/plain": [
       "0.9777777777777777"
      ]
     },
     "execution_count": 9,
     "metadata": {},
     "output_type": "execute_result"
    }
   ],
   "source": [
    "lr = LogisticRegression()\n",
    "lr.fit(X_train ,y_train)\n",
    "lr.score(X_test,y_test)"
   ]
  },
  {
   "cell_type": "code",
   "execution_count": 10,
   "id": "ae5f084e-c0a0-4f78-a696-f429253f942b",
   "metadata": {
    "colab": {
     "base_uri": "https://localhost:8080/"
    },
    "id": "ae5f084e-c0a0-4f78-a696-f429253f942b",
    "outputId": "21eecd0e-45a3-490b-c9fa-fe5a74b5f75b"
   },
   "outputs": [
    {
     "data": {
      "text/plain": [
       "0.9777777777777777"
      ]
     },
     "execution_count": 10,
     "metadata": {},
     "output_type": "execute_result"
    }
   ],
   "source": [
    "svm = SVC()\n",
    "svm.fit(X_train ,y_train)\n",
    "svm.score(X_test,y_test)"
   ]
  },
  {
   "cell_type": "code",
   "execution_count": 11,
   "id": "963ff502-b1cd-407e-aaab-5b93b97512d5",
   "metadata": {
    "colab": {
     "base_uri": "https://localhost:8080/"
    },
    "id": "963ff502-b1cd-407e-aaab-5b93b97512d5",
    "outputId": "2e8886c5-0af5-44b8-f02f-73e432722f55"
   },
   "outputs": [
    {
     "data": {
      "text/plain": [
       "0.9777777777777777"
      ]
     },
     "execution_count": 11,
     "metadata": {},
     "output_type": "execute_result"
    }
   ],
   "source": [
    "rf = RandomForestClassifier()\n",
    "rf.fit(X_train ,y_train)\n",
    "rf.score(X_test,y_test)"
   ]
  },
  {
   "cell_type": "code",
   "execution_count": 12,
   "id": "093e6705-e607-46cd-bfad-717782e7c255",
   "metadata": {
    "id": "093e6705-e607-46cd-bfad-717782e7c255"
   },
   "outputs": [],
   "source": [
    "def get_score(model,X_train,X_test ,y_train,y_test):\n",
    "    model.fit(X_train,y_train)\n",
    "    return model.score(X_test , y_test)"
   ]
  },
  {
   "cell_type": "code",
   "execution_count": 13,
   "id": "86942e21-91b6-4e79-b7aa-0fe7d3d0606f",
   "metadata": {
    "colab": {
     "base_uri": "https://localhost:8080/"
    },
    "id": "86942e21-91b6-4e79-b7aa-0fe7d3d0606f",
    "outputId": "a794956a-79ea-439c-e546-7d82e263b24e"
   },
   "outputs": [
    {
     "data": {
      "text/plain": [
       "0.9777777777777777"
      ]
     },
     "execution_count": 13,
     "metadata": {},
     "output_type": "execute_result"
    }
   ],
   "source": [
    "get_score(SVC(),X_train,X_test , y_train,y_test)"
   ]
  },
  {
   "cell_type": "code",
   "execution_count": 14,
   "id": "97b4da8f-d2b4-4621-ba68-50a8a5b745a3",
   "metadata": {
    "id": "97b4da8f-d2b4-4621-ba68-50a8a5b745a3"
   },
   "outputs": [],
   "source": [
    "from sklearn.model_selection import StratifiedKFold"
   ]
  },
  {
   "cell_type": "code",
   "execution_count": 15,
   "id": "f0341421-c500-4ce4-bb92-d9a4484cfd70",
   "metadata": {
    "id": "f0341421-c500-4ce4-bb92-d9a4484cfd70"
   },
   "outputs": [],
   "source": [
    "from sklearn.model_selection import StratifiedKFold\n",
    "folds = StratifiedKFold(n_splits=3)\n",
    "\n",
    "scores_logistic = []\n",
    "scores_svm = []\n",
    "scores_rf = []\n",
    "\n",
    "for train_index, test_index in folds.split(iris.data,iris.target):\n",
    "    X_train, X_test, y_train, y_test = iris.data[train_index], iris.data[test_index], \\\n",
    "                                       iris.target[train_index], iris.target[test_index]\n",
    "    scores_logistic.append(get_score(LogisticRegression(solver='liblinear',multi_class='ovr'), X_train, X_test, y_train, y_test))\n",
    "    scores_svm.append(get_score(SVC(gamma='auto'), X_train, X_test, y_train, y_test))\n",
    "    scores_rf.append(get_score(RandomForestClassifier(n_estimators=40), X_train, X_test, y_train, y_test))"
   ]
  },
  {
   "cell_type": "code",
   "execution_count": 16,
   "id": "a7bdc826-58dd-417c-a41d-36f4498c2236",
   "metadata": {
    "colab": {
     "base_uri": "https://localhost:8080/"
    },
    "id": "a7bdc826-58dd-417c-a41d-36f4498c2236",
    "outputId": "8c6d2835-3146-4b97-e5b0-9e0a5fcfcbff"
   },
   "outputs": [
    {
     "data": {
      "text/plain": [
       "[0.96, 0.96, 0.94]"
      ]
     },
     "execution_count": 16,
     "metadata": {},
     "output_type": "execute_result"
    }
   ],
   "source": [
    "scores_logistic"
   ]
  },
  {
   "cell_type": "code",
   "execution_count": 17,
   "id": "8503384a-c64a-4901-bc78-575fc999c040",
   "metadata": {
    "colab": {
     "base_uri": "https://localhost:8080/"
    },
    "id": "8503384a-c64a-4901-bc78-575fc999c040",
    "outputId": "0342da73-dd11-4432-8522-3269a06062ae"
   },
   "outputs": [
    {
     "data": {
      "text/plain": [
       "[0.98, 0.98, 0.96]"
      ]
     },
     "execution_count": 17,
     "metadata": {},
     "output_type": "execute_result"
    }
   ],
   "source": [
    "scores_svm"
   ]
  },
  {
   "cell_type": "code",
   "execution_count": 18,
   "id": "1e58807c-fbb9-423f-9b0b-52b6cacb5595",
   "metadata": {
    "colab": {
     "base_uri": "https://localhost:8080/"
    },
    "id": "1e58807c-fbb9-423f-9b0b-52b6cacb5595",
    "outputId": "7a2bdec1-485f-47c2-d06b-556af97c9a6a"
   },
   "outputs": [
    {
     "data": {
      "text/plain": [
       "[0.98, 0.94, 0.94]"
      ]
     },
     "execution_count": 18,
     "metadata": {},
     "output_type": "execute_result"
    }
   ],
   "source": [
    "scores_rf"
   ]
  },
  {
   "cell_type": "code",
   "execution_count": 19,
   "id": "3c9dff78-c401-4c63-9973-8b76a59c8791",
   "metadata": {
    "id": "3c9dff78-c401-4c63-9973-8b76a59c8791"
   },
   "outputs": [],
   "source": [
    "# cross_val_score function\n",
    "from sklearn.model_selection import cross_val_score"
   ]
  },
  {
   "cell_type": "code",
   "execution_count": 20,
   "id": "56c88b6d-a1ba-4b19-82cb-fa5727bd5f23",
   "metadata": {
    "colab": {
     "base_uri": "https://localhost:8080/"
    },
    "id": "56c88b6d-a1ba-4b19-82cb-fa5727bd5f23",
    "outputId": "136a08bf-212e-4462-9aa2-2113d7deb51c"
   },
   "outputs": [
    {
     "data": {
      "text/plain": [
       "array([0.96, 0.96, 0.94])"
      ]
     },
     "execution_count": 20,
     "metadata": {},
     "output_type": "execute_result"
    }
   ],
   "source": [
    "cross_val_score(LogisticRegression(solver='liblinear',multi_class='ovr'),iris.data,iris.target , cv=3)"
   ]
  },
  {
   "cell_type": "code",
   "execution_count": 21,
   "id": "3c861b9e-dfe8-4e80-b896-0a8e0690971b",
   "metadata": {
    "colab": {
     "base_uri": "https://localhost:8080/"
    },
    "id": "3c861b9e-dfe8-4e80-b896-0a8e0690971b",
    "outputId": "c1fd3d44-5d1a-4649-9fe6-20708ad78d29"
   },
   "outputs": [
    {
     "data": {
      "text/plain": [
       "array([0.98, 0.94, 0.94])"
      ]
     },
     "execution_count": 21,
     "metadata": {},
     "output_type": "execute_result"
    }
   ],
   "source": [
    "cross_val_score(RandomForestClassifier(n_estimators=40),iris.data,iris.target , cv=3)"
   ]
  },
  {
   "cell_type": "code",
   "execution_count": 22,
   "id": "2890c897-9222-4149-84c8-73fe943f4090",
   "metadata": {
    "colab": {
     "base_uri": "https://localhost:8080/"
    },
    "id": "2890c897-9222-4149-84c8-73fe943f4090",
    "outputId": "bc1a503d-cdbc-4b61-cd7f-82e362895199"
   },
   "outputs": [
    {
     "data": {
      "text/plain": [
       "array([0.98, 0.98, 0.96])"
      ]
     },
     "execution_count": 22,
     "metadata": {},
     "output_type": "execute_result"
    }
   ],
   "source": [
    "cross_val_score(SVC(gamma='auto'),iris.data,iris.target , cv=3)"
   ]
  },
  {
   "cell_type": "code",
   "execution_count": 23,
   "id": "d05c87e1-9697-4e66-ac18-c1e8cad055de",
   "metadata": {
    "colab": {
     "base_uri": "https://localhost:8080/"
    },
    "id": "d05c87e1-9697-4e66-ac18-c1e8cad055de",
    "outputId": "ffbd21f0-703f-4738-f6e1-0a203671eaea"
   },
   "outputs": [
    {
     "data": {
      "text/plain": [
       "0.9666666666666667"
      ]
     },
     "execution_count": 23,
     "metadata": {},
     "output_type": "execute_result"
    }
   ],
   "source": [
    "scores1=cross_val_score(RandomForestClassifier(n_estimators=40),iris.data,iris.target , cv=3)\n",
    "np.average(scores1)"
   ]
  },
  {
   "cell_type": "code",
   "execution_count": 24,
   "id": "64eb1e83-0047-4e5b-81fa-e8c6717e9432",
   "metadata": {
    "colab": {
     "base_uri": "https://localhost:8080/"
    },
    "id": "64eb1e83-0047-4e5b-81fa-e8c6717e9432",
    "outputId": "84bbd82a-5cca-4119-aa56-38fdd47b3ab3"
   },
   "outputs": [
    {
     "data": {
      "text/plain": [
       "0.9666666666666666"
      ]
     },
     "execution_count": 24,
     "metadata": {},
     "output_type": "execute_result"
    }
   ],
   "source": [
    "scores2=cross_val_score(RandomForestClassifier(n_estimators=20),iris.data,iris.target , cv=10)\n",
    "np.average(scores2)"
   ]
  },
  {
   "cell_type": "code",
   "execution_count": 25,
   "id": "3c94d833-0181-446c-838e-47e33b0e9893",
   "metadata": {
    "colab": {
     "base_uri": "https://localhost:8080/"
    },
    "id": "3c94d833-0181-446c-838e-47e33b0e9893",
    "outputId": "1915d58f-2e28-4e56-b5c8-b28537052c64"
   },
   "outputs": [
    {
     "data": {
      "text/plain": [
       "0.9533333333333334"
      ]
     },
     "execution_count": 25,
     "metadata": {},
     "output_type": "execute_result"
    }
   ],
   "source": [
    "scores3=cross_val_score(RandomForestClassifier(n_estimators=30),iris.data,iris.target , cv=10)\n",
    "np.average(scores3)"
   ]
  },
  {
   "cell_type": "code",
   "execution_count": 26,
   "id": "3605eeba-a07b-4bcf-b9e9-260dbe87ac27",
   "metadata": {
    "colab": {
     "base_uri": "https://localhost:8080/"
    },
    "id": "3605eeba-a07b-4bcf-b9e9-260dbe87ac27",
    "outputId": "0e630586-de9b-43f6-b7b3-dba392be1b53"
   },
   "outputs": [
    {
     "data": {
      "text/plain": [
       "0.96"
      ]
     },
     "execution_count": 26,
     "metadata": {},
     "output_type": "execute_result"
    }
   ],
   "source": [
    "scores4=cross_val_score(RandomForestClassifier(n_estimators=40),iris.data,iris.target , cv=10)\n",
    "np.average(scores4)"
   ]
  },
  {
   "cell_type": "code",
   "execution_count": null,
   "id": "014a42e7-6ad4-4736-a368-58fcd17b550a",
   "metadata": {
    "id": "014a42e7-6ad4-4736-a368-58fcd17b550a"
   },
   "outputs": [],
   "source": []
  }
 ],
 "metadata": {
  "colab": {
   "provenance": []
  },
  "kernelspec": {
   "display_name": "Python 3 (ipykernel)",
   "language": "python",
   "name": "python3"
  },
  "language_info": {
   "codemirror_mode": {
    "name": "ipython",
    "version": 3
   },
   "file_extension": ".py",
   "mimetype": "text/x-python",
   "name": "python",
   "nbconvert_exporter": "python",
   "pygments_lexer": "ipython3",
   "version": "3.11.3"
  }
 },
 "nbformat": 4,
 "nbformat_minor": 5
}
